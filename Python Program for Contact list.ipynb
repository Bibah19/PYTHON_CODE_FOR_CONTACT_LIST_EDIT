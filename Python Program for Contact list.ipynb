{
 "cells": [
  {
   "cell_type": "markdown",
   "id": "b17dab60",
   "metadata": {},
   "source": [
    "# PYTHON PROJECT"
   ]
  },
  {
   "cell_type": "markdown",
   "id": "a62109d4",
   "metadata": {},
   "source": [
    "## A Python program that allows users to add, view, search, and delete contacts, along with their names, phone numbers, and email addresses\n"
   ]
  },
  {
   "cell_type": "code",
   "execution_count": null,
   "id": "6337543f",
   "metadata": {},
   "outputs": [
    {
     "name": "stdout",
     "output_type": "stream",
     "text": [
      "\n",
      "Contact Management Menu:\n",
      "1. Add Contact\n",
      "2. View Contacts\n",
      "3. Search Contact\n",
      "4. Delete Contact\n",
      "5. Exit\n"
     ]
    }
   ],
   "source": [
    "# Initialize an empty dictionary to store contacts\n",
    "contacts = {}\n",
    "\n",
    "def add_contact():\n",
    "    name = input(\"Enter contact name: \")\n",
    "    phone = input(\"Enter phone number: \")\n",
    "    email = input(\"Enter email address: \")\n",
    "    contacts[name] = {\"Phone\": phone, \"Email\": email}\n",
    "    print(f\"Contact '{name}' added successfully!\")\n",
    "\n",
    "def view_contacts():\n",
    "    if not contacts:\n",
    "        print(\"No contacts found.\")\n",
    "    else:\n",
    "        print(\"Contacts:\")\n",
    "        for name, info in contacts.items():\n",
    "            print(f\"Name: {name}, Phone: {info['Phone']}, Email: {info['Email']}\")\n",
    "\n",
    "def search_contact():\n",
    "    name = input(\"Enter the name to search for: \")\n",
    "    if name in contacts:\n",
    "        info = contacts[name]\n",
    "        print(f\"Name: {name}, Phone: {info['Phone']}, Email: {info['Email']}\")\n",
    "    else:\n",
    "        print(f\"Contact '{name}' not found.\")\n",
    "\n",
    "def delete_contact():\n",
    "    name = input(\"Enter the name to delete: \")\n",
    "    if name in contacts:\n",
    "        del contacts[name]\n",
    "        print(f\"Contact '{name}' deleted successfully!\")\n",
    "    else:\n",
    "        print(f\"Contact '{name}' not found.\")\n",
    "\n",
    "while True:\n",
    "    print(\"\\nContact Management Menu:\")\n",
    "    print(\"1. Add Contact\")\n",
    "    print(\"2. View Contacts\")\n",
    "    print(\"3. Search Contact\")\n",
    "    print(\"4. Delete Contact\")\n",
    "    print(\"5. Exit\")\n",
    "\n",
    "    choice = input(\"Enter your choice (1/2/3/4/5): \")\n",
    "\n",
    "    if choice == \"1\":\n",
    "        add_contact()\n",
    "    elif choice == \"2\":\n",
    "        view_contacts()\n",
    "    elif choice == \"3\":\n",
    "        search_contact()\n",
    "    elif choice == \"4\":\n",
    "        delete_contact()\n",
    "    elif choice == \"5\":\n",
    "        print(\"Exiting the Contact Management Program. Goodbye!\")\n",
    "        break\n",
    "    else:\n",
    "        print(\"Invalid choice. Please choose a valid option.\")"
   ]
  }
 ],
 "metadata": {
  "kernelspec": {
   "display_name": "Python 3 (ipykernel)",
   "language": "python",
   "name": "python3"
  },
  "language_info": {
   "codemirror_mode": {
    "name": "ipython",
    "version": 3
   },
   "file_extension": ".py",
   "mimetype": "text/x-python",
   "name": "python",
   "nbconvert_exporter": "python",
   "pygments_lexer": "ipython3",
   "version": "3.10.9"
  }
 },
 "nbformat": 4,
 "nbformat_minor": 5
}
